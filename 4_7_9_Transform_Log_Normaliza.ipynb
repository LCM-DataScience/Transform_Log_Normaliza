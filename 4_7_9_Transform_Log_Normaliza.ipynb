{
 "cells": [
  {
   "cell_type": "markdown",
   "metadata": {
    "id": "NcDb3qLlp2CT"
   },
   "source": [
    "### **Estatística: Transformação Logarítmica, Normalização e Outras Transformações**"
   ]
  },
  {
   "cell_type": "markdown",
   "metadata": {
    "id": "8GK4wuO6GoPY"
   },
   "source": [
    "#### **1. Bibliotecas**"
   ]
  },
  {
   "cell_type": "code",
   "execution_count": null,
   "metadata": {
    "id": "1BMUlabDp2IK"
   },
   "outputs": [],
   "source": [
    "import yfinance as yf\n",
    "import vectorbt as vbt\n",
    "import plotly.graph_objects as go\n",
    "import plotly.express as px"
   ]
  },
  {
   "cell_type": "markdown",
   "metadata": {
    "id": "N0fW6wcrKi6p"
   },
   "source": [
    "#### **2.2. Transformação de dados**"
   ]
  },
  {
   "cell_type": "markdown",
   "metadata": {
    "id": "BFe-8uF_sxBR"
   },
   "source": [
    "##### **2.2.1. Problemas comuns**\n",
    "\n",
    "* Comparação de escalas/distribuições diferentes\n",
    "* Permite trabalhar com dados não normais\n",
    "* Avaliar relações não-lineares\n",
    "* Séries temporais longas"
   ]
  },
  {
   "cell_type": "markdown",
   "metadata": {},
   "source": [
    "Este exemplo abaixo de drawdown com valores nominais, nos mostra 'picos' e 'vales' praticamente impercetíveis quando temos uma grande linha temporal "
   ]
  },
  {
   "cell_type": "code",
   "execution_count": null,
   "metadata": {},
   "outputs": [],
   "source": [
    "ibov_sp500 = yf.download(['^BVSP','^GSPC'], period='max')['Close']\n",
    "ibov_sp500['^GSPC'].vbt.drawdowns.plot(width=1000).show()"
   ]
  },
  {
   "cell_type": "code",
   "execution_count": null,
   "metadata": {
    "colab": {
     "base_uri": "https://localhost:8080/"
    },
    "id": "lRXXHeJfz3D6",
    "outputId": "9d95eba8-bb05-4be3-c00e-e37e6b5d9e28"
   },
   "outputs": [],
   "source": [
    "ibov_sp500 = yf.download(['^BVSP','^GSPC'], period='max')['Close']"
   ]
  },
  {
   "cell_type": "markdown",
   "metadata": {},
   "source": [
    "🟡 Gráfico Original:  \n",
    "Os valores do S&P 500 mostravam uma grande disparidade ao longo do tempo, dificultando a análise de períodos específicos."
   ]
  },
  {
   "cell_type": "code",
   "execution_count": null,
   "metadata": {},
   "outputs": [],
   "source": [
    "fig = go.Figure()\n",
    "\n",
    "# Linha S&P500\n",
    "fig.add_trace(go.Scatter(x=ibov_sp500.index, y=ibov_sp500['^GSPC'], name='S&P 500', line=dict(color='blue', width=3)))\n",
    "\n",
    "# Cores retângulos verticais \n",
    "fig.add_vrect(x0='1973', x1='1985', fillcolor=\"#000000\", opacity=0.3, line_width=0)\n",
    "fig.add_vrect(x0='2000-06', x1='2003-06', fillcolor=\"blue\", opacity=0.3, line_width=0)\n",
    "fig.add_vrect(x0='2008', x1='2013', fillcolor=\"green\", opacity=0.3, line_width=0)\n",
    "fig.add_vrect(x0='2020', x1='2021', fillcolor=\"red\", opacity=0.3, line_width=0)\n",
    "\n",
    "# Add annotations at the top\n",
    "y_max = ibov_sp500['^GSPC'].max()\n",
    "fig.add_trace(go.Scatter(x=['1979-01-01'], y=[5100], mode=\"text\", text=\"<b>Petróleo<br>e Energia</b>\", textposition=\"top center\", showlegend=False))\n",
    "fig.add_trace(go.Scatter(x=['2002-01-01'], y=[5100], mode=\"text\", text=\"<b>Bolha da <br>Internet</b>\", textposition=\"top center\", showlegend=False))\n",
    "fig.add_trace(go.Scatter(x=['2010-07-01'], y=[5100], mode=\"text\", text=\"<b>Crise<br>Subprimes</b>\", textposition=\"top center\", showlegend=False))\n",
    "fig.add_trace(go.Scatter(x=['2020-06-01'], y=[5500], mode=\"text\", text='<b>\"Covid\"</b>', textposition=\"top center\", showlegend=False))\n",
    "\n",
    "# Update layout\n",
    "fig.update_layout(title='', xaxis_title=\"<b>Data\", yaxis_title=\"<b>Valor nominal (USD)\", legend_title=\"\",\n",
    "                  font=dict(family=\"Arial, Arial, Arial\",size=18,color=\"black\"),paper_bgcolor=\"#f7f8fa\")\n",
    "\n",
    "fig.update_layout(xaxis_rangeslider_visible=False, margin=dict(l=120, r=20, t=20, b=20), template='simple_white',\n",
    "                  width=1000, height=500, legend=dict(orientation=\"h\", yanchor=\"bottom\", y=0.9, xanchor=\"right\", x=0.15),\n",
    "                  xaxis=dict(range=['1950', '2025']))\n",
    "\n",
    "fig.show()\n"
   ]
  },
  {
   "cell_type": "markdown",
   "metadata": {},
   "source": [
    "🟢 Gráfico com Transformação Logarítmica:  \n",
    "Após a aplicação da transformação logarítmica, os valores foram ajustados para uma escala linear, facilitando a identificação de tendências e comparações entre diferentes períodos."
   ]
  },
  {
   "cell_type": "code",
   "execution_count": null,
   "metadata": {},
   "outputs": [],
   "source": [
    "fig = go.Figure()\n",
    "\n",
    "# Adicionando o gráfico do S&P 500\n",
    "fig.add_trace(go.Scatter(x=ibov_sp500.index, y=np.log(ibov_sp500['^GSPC']),\n",
    "                         name='S&P 500', line=dict(color='blue', width=3)))\n",
    "\n",
    "# Adicionando retângulos verticais\n",
    "fig.add_vrect(x0='1973', x1='1985', fillcolor=\"#000000\", opacity=0.3, line_width=0)\n",
    "fig.add_vrect(x0='2000-06', x1='2003-06', fillcolor=\"blue\", opacity=0.3, line_width=0)\n",
    "fig.add_vrect(x0='2008', x1='2013', fillcolor=\"green\", opacity=0.3, line_width=0)\n",
    "fig.add_vrect(x0='2020', x1='2021', fillcolor=\"red\", opacity=0.3, line_width=0)\n",
    "\n",
    "# Ajuste as posições y para alinhar as anotações\n",
    "fig.add_trace(go.Scatter(x=['1979-01-01'], y=[np.log(10)], mode=\"text\", text=\"<b>Petróleo<br>e Energia</b>\", textposition=\"bottom center\", showlegend=False))\n",
    "fig.add_trace(go.Scatter(x=['2002-01-01'], y=[np.log(10)], mode=\"text\", text=\"<b>Bolha da <br>Internet</b>\", textposition=\"bottom center\", showlegend=False))\n",
    "fig.add_trace(go.Scatter(x=['2010-07-01'], y=[np.log(10)], mode=\"text\", text=\"<b>Crise<br>Subprimes</b>\", textposition=\"bottom center\", showlegend=False))\n",
    "fig.add_trace(go.Scatter(x=['2020-06-01'], y=[np.log(10)], mode=\"text\", text='<b>\"Covid\"</b>', textposition=\"bottom center\", showlegend=False))\n",
    "\n",
    "# Configurando o layout do gráfico\n",
    "fig.update_layout(title='', xaxis_title=\"<b>Data\", yaxis_title=\"<b>Valor nominal (USD)\", legend_title=\"\",\n",
    "                  font=dict(family=\"Arial, Arial, Arial\", size=18, color=\"black\"), paper_bgcolor=\"#f7f8fa\")\n",
    "\n",
    "fig.update_layout(xaxis_rangeslider_visible=False, margin=dict(l=120, r=20, t=20, b=50), template='simple_white',\n",
    "                  width=1000, height=500, legend=dict(orientation=\"h\", yanchor=\"bottom\", y=0.9, xanchor=\"right\", x=0.15),\n",
    "                  xaxis=dict(range=['1950', '2025']))\n",
    "\n",
    "fig.show()\n"
   ]
  },
  {
   "cell_type": "markdown",
   "metadata": {},
   "source": [
    "Essa transformação facilita a comparação direta, trazendo os valores para uma escala linear."
   ]
  },
  {
   "cell_type": "markdown",
   "metadata": {
    "id": "pp0mrRLWy6vb"
   },
   "source": [
    "##### **2.2.2. Transformação logarítmica: \"distância relativa x absoluta\"**"
   ]
  },
  {
   "cell_type": "markdown",
   "metadata": {},
   "source": [
    "A transformação logarítmica é uma técnica fundamental na análise financeira, especialmente quando lidamos com valores que variam em ordens de magnitude diferentes. Uma das principais vantagens do uso de logaritmos é a capacidade de converter multiplicações em somas, o que facilita a análise de \"distâncias relativas\" ao invés de \"distâncias absolutas\"."
   ]
  },
  {
   "cell_type": "markdown",
   "metadata": {},
   "source": [
    "###### **Distância Absoluta vs. Distância Relativa:**\n",
    "\n",
    "- Distância Absoluta refere-se à diferença direta entre valores. Por exemplo, a diferença absoluta entre 1000 e 100 é 900.  \n",
    "\n",
    "- Distância Relativa leva em consideração o valor proporcional ou percentual da diferença. Por exemplo, a diferença relativa entre 1000 e 100 é um fator de 10 (ou seja, 1000 é 10 vezes maior que 100)."
   ]
  },
  {
   "cell_type": "markdown",
   "metadata": {},
   "source": [
    "**Nesta imagem temos:**"
   ]
  },
  {
   "attachments": {
    "log_nat.png": {
     "image/png": "[encoded data removed]"
    }
   },
   "cell_type": "markdown",
   "metadata": {},
   "source": [
    "![log_nat.png](attachment:log_nat.png)"
   ]
  },
  {
   "cell_type": "markdown",
   "metadata": {},
   "source": [
    "- Base (a): A base do logaritmo determina a escala da transformação. No caso mais comum em finanças, usamos a base ee (logaritmo natural). \n",
    "\n",
    "- Logaritmando (b): Este é o valor sobre o qual estamos aplicando o logaritmo.  \n",
    "\n",
    "- Logaritmo (x): O resultado do logaritmo indica a potência à qual a base deve ser elevada para alcançar o logaritmando."
   ]
  },
  {
   "cell_type": "markdown",
   "metadata": {},
   "source": [
    "**Aplicação Prática em Análise Financeira:**\n",
    "\n",
    "Diferença entre distâncias absolutas e relativas com um exemplo de análise de ações:"
   ]
  },
  {
   "cell_type": "code",
   "execution_count": null,
   "metadata": {
    "colab": {
     "base_uri": "https://localhost:8080/",
     "height": 417
    },
    "id": "r7CLpqT5Jm_s",
    "outputId": "2f2d51de-c223-42df-8a93-618bf09bd2eb"
   },
   "outputs": [],
   "source": [
    "ibov = ibov_sp500[ibov_sp500.index>='2000']\n",
    "\n",
    "fig = px.line(ibov, x=ibov.index, y=ibov['^BVSP'], width=1000, height=400)\n",
    "fig.show()"
   ]
  },
  {
   "cell_type": "markdown",
   "metadata": {},
   "source": [
    "Este primeiro gráfico mostra os preços absolutos do índice IBOVESPA. As variações podem ser difíceis de interpretar, especialmente para grandes valores."
   ]
  },
  {
   "cell_type": "code",
   "execution_count": null,
   "metadata": {
    "colab": {
     "base_uri": "https://localhost:8080/",
     "height": 417
    },
    "id": "iirS0QdiKLvt",
    "outputId": "d58ad38a-f577-440e-863f-06acddabc30d"
   },
   "outputs": [],
   "source": [
    "fig = px.line(ibov, x=ibov.index, y=np.log(ibov['^BVSP']), width=1000, height=400)\n",
    "fig.show()"
   ]
  },
  {
   "cell_type": "markdown",
   "metadata": {},
   "source": [
    "Este segundo gráfico aplica a transformação logarítmica aos preços do IBOVESPA, convertendo as variações em distâncias relativas."
   ]
  },
  {
   "cell_type": "markdown",
   "metadata": {},
   "source": [
    "Referências:\n",
    "\n",
    "* https://www.educamaisbrasil.com.br/enem/matematica/logaritmo\n",
    "\n",
    "* https://www.infoescola.com/matematica/logaritmo-natural/"
   ]
  },
  {
   "cell_type": "markdown",
   "metadata": {
    "id": "Ksa9hRBp39gz"
   },
   "source": [
    "##### **2.2.3. Normalização**"
   ]
  },
  {
   "cell_type": "markdown",
   "metadata": {},
   "source": [
    "Neste exemplo, os dados obtidos de S&P 500 e IBOVESPA são divididos por seus valores iniciais, trazendo ambos os índices para uma base comum e facilitando a análise comparativa."
   ]
  },
  {
   "cell_type": "code",
   "execution_count": null,
   "metadata": {
    "colab": {
     "base_uri": "https://localhost:8080/"
    },
    "id": "CD1erA8qw_i6",
    "outputId": "102f0428-56e6-431a-db23-eb5e152261a0"
   },
   "outputs": [],
   "source": [
    "ibov_sp500_tickers = ['^BVSP', '^GSPC']\n",
    "ibov_sp500 = yf.download(ibov_sp500_tickers, period='max')['Close']"
   ]
  },
  {
   "cell_type": "code",
   "execution_count": null,
   "metadata": {
    "id": "RclR0QPuIv9k"
   },
   "outputs": [],
   "source": [
    "ibov_sp500_red = ibov_sp500.dropna()\n",
    "ibov_sp500_red = ibov_sp500_red[ibov_sp500_red.index>='2000']"
   ]
  },
  {
   "cell_type": "code",
   "execution_count": null,
   "metadata": {
    "colab": {
     "base_uri": "https://localhost:8080/",
     "height": 455
    },
    "id": "XMmBseSiIx_M",
    "outputId": "6d133625-452b-4967-b31e-56044410e241"
   },
   "outputs": [],
   "source": [
    "ibov_sp500_red"
   ]
  },
  {
   "cell_type": "markdown",
   "metadata": {},
   "source": [
    "Representação do gráfico antes da normalização"
   ]
  },
  {
   "cell_type": "code",
   "execution_count": null,
   "metadata": {
    "colab": {
     "base_uri": "https://localhost:8080/",
     "height": 417
    },
    "id": "5N1TpA6RB1bM",
    "outputId": "ae305734-5f8e-4dcd-faca-85ae81955d7e"
   },
   "outputs": [],
   "source": [
    "fig = go.Figure()\n",
    "\n",
    "fig.add_trace(go.Scatter(x=ibov_sp500_red.index, y=ibov_sp500_red['^GSPC'],\n",
    "                         name='S&P 500', line=dict(color='blue', width=3)))\n",
    "\n",
    "fig.add_trace(go.Scatter(x=ibov_sp500_red.index, y=ibov_sp500_red['^BVSP'],\n",
    "                         name='IBOV', line=dict(color='#008000', width=3)))\n",
    "\n",
    "fig.update_layout(xaxis_rangeslider_visible=False, margin=dict(l=120, r=20, t=20, b=20), template = 'simple_white',\n",
    "                  paper_bgcolor=\"#f7f8fa\", width=800,height=400)\n",
    "fig.show()"
   ]
  },
  {
   "cell_type": "code",
   "execution_count": null,
   "metadata": {
    "colab": {
     "base_uri": "https://localhost:8080/",
     "height": 455
    },
    "id": "L2ubiK0T4WoD",
    "outputId": "15fcefe7-5853-4965-84e6-b1e7a77da65b"
   },
   "outputs": [],
   "source": [
    "ibov_sp500_normalizado = ibov_sp500_red/ibov_sp500_red.iloc[0]\n",
    "ibov_sp500_normalizado"
   ]
  },
  {
   "cell_type": "markdown",
   "metadata": {},
   "source": [
    "Representação do gráfico depois da normalização"
   ]
  },
  {
   "cell_type": "code",
   "execution_count": null,
   "metadata": {
    "colab": {
     "base_uri": "https://localhost:8080/",
     "height": 417
    },
    "id": "u37U15y7zdlK",
    "outputId": "f46158e4-a6dd-4c54-e422-5669d9f6e6d6"
   },
   "outputs": [],
   "source": [
    "fig = go.Figure()\n",
    "\n",
    "ibov_sp500_normalizado\n",
    "\n",
    "fig.add_trace(go.Scatter(x=ibov_sp500_normalizado.index, y=ibov_sp500_normalizado['^GSPC'],\n",
    "                         name='S&P 500', line=dict(color='blue', width=3)))\n",
    "\n",
    "fig.add_trace(go.Scatter(x=ibov_sp500_normalizado.index, y=ibov_sp500_normalizado['^BVSP'],\n",
    "                         name='IBOV', line=dict(color='#008000', width=3)))\n",
    "\n",
    "fig.update_layout(xaxis_rangeslider_visible=False, margin=dict(l=120, r=20, t=20, b=20), template = 'simple_white',\n",
    "                  paper_bgcolor=\"#f7f8fa\", width=800,height=400)\n",
    "fig.show()"
   ]
  },
  {
   "cell_type": "markdown",
   "metadata": {
    "id": "KfVF_QTRn0lC"
   },
   "source": [
    "##### **2.2.4. Transformação \"scale\" (padronização)**"
   ]
  },
  {
   "cell_type": "markdown",
   "metadata": {},
   "source": [
    "Quando trabalhamos com dados financeiros de diferentes ativos, frequentemente encontramos problemas de escala. Ativos diferentes podem ter volumes de negociação que variam em ordens de magnitude, tornando difícil a comparação direta. A padronização (ou normalização) transforma os dados para que tenham uma média de 0 e uma variância de 1. Isso permite comparações diretas entre os ativos."
   ]
  },
  {
   "cell_type": "code",
   "execution_count": null,
   "metadata": {
    "colab": {
     "base_uri": "https://localhost:8080/",
     "height": 455
    },
    "id": "gn8B5EZGn0bC",
    "outputId": "d9093710-8805-471e-8cf4-c5c8b8dc6522"
   },
   "outputs": [],
   "source": [
    "# Baixando os dados pela VectorBT\n",
    "tickers = ['VALE3.SA', 'PETR4.SA', 'ITUB4.SA']\n",
    "\n",
    "Major_IBOV_vol = vbt.YFData.download(tickers, start='5 year ago', interval='1d').get('Volume')\n",
    "Major_IBOV_vol"
   ]
  },
  {
   "cell_type": "markdown",
   "metadata": {},
   "source": [
    "**Dados Originais:**  \n",
    "Inicialmente, visualizamos os volumes de negociação dos ativos VALE3, PETR4 e ITUB4 em suas escalas originais. As diferenças nas magnitudes dos volumes são evidentes, tornando a comparação direta difícil."
   ]
  },
  {
   "cell_type": "code",
   "execution_count": null,
   "metadata": {
    "colab": {
     "base_uri": "https://localhost:8080/",
     "height": 297
    },
    "id": "GhEU5w4Zb64l",
    "outputId": "a4b9d5c3-e291-4b27-e9ef-fc8bcbe74faf"
   },
   "outputs": [],
   "source": [
    "Major_IBOV_vol.plot()"
   ]
  },
  {
   "cell_type": "markdown",
   "metadata": {},
   "source": [
    "**Histograma dos Dados Originais:**  \n",
    "O histograma dos volumes originais mostra distribuições distintas para cada ativo, com diferentes amplitudes e frequências de valores."
   ]
  },
  {
   "cell_type": "code",
   "execution_count": null,
   "metadata": {
    "colab": {
     "base_uri": "https://localhost:8080/",
     "height": 367
    },
    "id": "zSdmyZADrAGK",
    "outputId": "038daab9-1de4-49ec-caef-9474c5cb06c9"
   },
   "outputs": [],
   "source": [
    "Major_IBOV_vol.vbt.histplot().show()"
   ]
  },
  {
   "cell_type": "markdown",
   "metadata": {
    "id": "QLux-k-gwyHr"
   },
   "source": [
    "**Padronização dos Dados:**  \n",
    "Aplicamos a técnica de padronização aos volumes de negociação. A padronização transforma os dados para que cada ativo tenha uma média de 0 e uma variância de 1, facilitando a comparação entre eles."
   ]
  },
  {
   "cell_type": "code",
   "execution_count": null,
   "metadata": {
    "colab": {
     "base_uri": "https://localhost:8080/",
     "height": 455
    },
    "id": "Ch7IqE8-n_K7",
    "outputId": "a5977d1d-bec9-46e0-b54c-0572bb107a96"
   },
   "outputs": [],
   "source": [
    "Major_IBOV_vol_scale = Major_IBOV_vol.vbt.scale()\n",
    "Major_IBOV_vol_scale"
   ]
  },
  {
   "cell_type": "markdown",
   "metadata": {},
   "source": [
    "**Dados Padronizados:**  \n",
    "Após a padronização, visualizamos os volumes de negociação em uma escala comum. Agora, os dados são mais comparáveis, permitindo uma análise mais clara das flutuações relativas nos volumes de negociação entre os ativos."
   ]
  },
  {
   "cell_type": "code",
   "execution_count": null,
   "metadata": {
    "colab": {
     "base_uri": "https://localhost:8080/",
     "height": 286
    },
    "id": "BFwHOafjcBnC",
    "outputId": "d04fd4a1-c050-41fc-8f8d-2710b7b415c2"
   },
   "outputs": [],
   "source": [
    "Major_IBOV_vol_scale.plot()"
   ]
  },
  {
   "cell_type": "markdown",
   "metadata": {},
   "source": [
    "**Histograma dos Dados Padronizados:**  \n",
    "O histograma dos dados padronizados exibe as novas distribuições com médias centradas em 0 e variâncias iguais a 1.  \n",
    "Isso confirma a eficácia da padronização na equalização das escalas dos dados."
   ]
  },
  {
   "cell_type": "code",
   "execution_count": null,
   "metadata": {
    "colab": {
     "base_uri": "https://localhost:8080/",
     "height": 367
    },
    "id": "u4zLpx7koEty",
    "outputId": "9b8c026f-7108-4039-927c-0924822f6121"
   },
   "outputs": [],
   "source": [
    "# Observe a nova distribuição dos dados, incluindo a nova variação do eixo X\n",
    "Major_IBOV_vol_scale.vbt.histplot().show()"
   ]
  },
  {
   "cell_type": "markdown",
   "metadata": {
    "id": "pdJ4D4CAoG9S"
   },
   "source": [
    "##### **4. Transformação MIN-MAX**"
   ]
  },
  {
   "cell_type": "markdown",
   "metadata": {
    "id": "v8PozSWCoHDS"
   },
   "source": [
    "A transformação MIN-MAX é outra técnica de normalização que redimensiona os dados para um intervalo fixo, tipicamente entre 0 e 1.  \n",
    "Quando precisamos manter a distribuição relativa dos dados enquanto os ajustamos para uma escala comum."
   ]
  },
  {
   "cell_type": "code",
   "execution_count": null,
   "metadata": {},
   "outputs": [],
   "source": [
    "Major_IBOV_vol.vbt.histplot(title='Volume Original dos Ativos').show()"
   ]
  },
  {
   "cell_type": "code",
   "execution_count": null,
   "metadata": {},
   "outputs": [],
   "source": [
    "Major_IBOV_vol_minmax = Major_IBOV_vol.vbt.minmax_scale()\n",
    "Major_IBOV_vol_minmax.vbt.histplot(title='Volume MIN-MAX dos Ativos').show()"
   ]
  },
  {
   "cell_type": "markdown",
   "metadata": {
    "id": "wc5ta0GEoTx6"
   },
   "source": [
    "##### **5. Binarização**"
   ]
  },
  {
   "cell_type": "markdown",
   "metadata": {
    "id": "dizgt14WoWnK"
   },
   "source": [
    "A binarização é uma técnica para converter dados contínuos em uma forma binária, facilitando a classificação e análise. Ela identifica dias com grandes movimentos de preço ou simplifica modelos preditivos ao reduzir a complexidade dos dados. Neste exemplo, a binarização dos retornos diários do milho permite uma análise clara dos dias com variações significativas no preço, destacando os eventos de maior interesse."
   ]
  },
  {
   "cell_type": "code",
   "execution_count": null,
   "metadata": {
    "colab": {
     "base_uri": "https://localhost:8080/"
    },
    "id": "Q3crgCBaoXIO",
    "outputId": "6de39bcd-fd9b-49e3-be78-7725ffbf6a17"
   },
   "outputs": [],
   "source": [
    "milho = yf.download('ZC=F', start='2010-01-01', interval='1d')['Close']"
   ]
  },
  {
   "cell_type": "markdown",
   "metadata": {},
   "source": [
    "Depois de obtermos os dados de preços de fechamento do milho, calculamos os retornos percentuais diários. Isso nos dá uma visão das variações diárias nos preços do milho."
   ]
  },
  {
   "cell_type": "code",
   "execution_count": null,
   "metadata": {
    "colab": {
     "base_uri": "https://localhost:8080/"
    },
    "id": "06RxRUqfobx6",
    "outputId": "cd852102-3443-4d3e-99c1-426657d4ffcb"
   },
   "outputs": [],
   "source": [
    "resultado_milho = milho.pct_change() * 100\n",
    "resultado_milho.dropna(inplace=True)  # Removendo valores NA"
   ]
  },
  {
   "cell_type": "markdown",
   "metadata": {},
   "source": [
    "Antes da binarização, visualizamos os retornos percentuais diários. Esta série contínua mostra as flutuações diárias em termos percentuais, que podem variar amplamente."
   ]
  },
  {
   "cell_type": "code",
   "execution_count": null,
   "metadata": {},
   "outputs": [],
   "source": [
    "resultado_milho.plot(title='Retornos Percentuais Diários do Milho');"
   ]
  },
  {
   "cell_type": "markdown",
   "metadata": {},
   "source": [
    "Aplicamos a transformação de binarização usando um threshold de 1%. Isso significa que qualquer retorno diário maior que 1% é classificado como 1, enquanto retornos iguais ou menores que 1% são classificados como 0."
   ]
  },
  {
   "cell_type": "code",
   "execution_count": null,
   "metadata": {},
   "outputs": [],
   "source": [
    "# Usar a transformação binarizar (0 e 1) para classificar em > 1% ou <= 1%\n",
    "resul_acima_1porcento = resultado_milho.vbt.binarize(threshold=1)"
   ]
  },
  {
   "cell_type": "markdown",
   "metadata": {},
   "source": [
    "A ausência de variação aparente no gráfico sugere que a maioria dos retornos diários do milho não excedeu 1%."
   ]
  },
  {
   "cell_type": "code",
   "execution_count": null,
   "metadata": {},
   "outputs": [],
   "source": [
    "resul_acima_1porcento.plot(title='Retornos Diários Binarizados (Acima de 1%)');"
   ]
  },
  {
   "cell_type": "markdown",
   "metadata": {},
   "source": [
    "Finalmente, exibimos a série binarizada para verificar os valores transformados. Os valores 1 indicam dias com retornos acima de 1%, enquanto os valores 0 indicam retornos iguais ou menores que 1%."
   ]
  },
  {
   "cell_type": "code",
   "execution_count": null,
   "metadata": {},
   "outputs": [],
   "source": [
    "print(resul_acima_1porcento)"
   ]
  }
 ],
 "metadata": {
  "colab": {
   "collapsed_sections": [
    "Ksa9hRBp39gz",
    "KfVF_QTRn0lC",
    "pdJ4D4CAoG9S",
    "wc5ta0GEoTx6"
   ],
   "provenance": []
  },
  "kernelspec": {
   "display_name": "Python 3 (ipykernel)",
   "language": "python",
   "name": "python3"
  },
  "language_info": {
   "codemirror_mode": {
    "name": "ipython",
    "version": 3
   },
   "file_extension": ".py",
   "mimetype": "text/x-python",
   "name": "python",
   "nbconvert_exporter": "python",
   "pygments_lexer": "ipython3",
   "version": "3.12.3"
  }
 },
 "nbformat": 4,
 "nbformat_minor": 4
}
